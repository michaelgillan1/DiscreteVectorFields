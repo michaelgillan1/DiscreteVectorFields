{
 "cells": [
  {
   "cell_type": "code",
   "execution_count": 1,
   "id": "initial_id",
   "metadata": {
    "collapsed": true,
    "ExecuteTime": {
     "end_time": "2025-08-01T14:45:01.291391100Z",
     "start_time": "2025-08-01T14:44:56.701073500Z"
    }
   },
   "outputs": [],
   "source": [
    "import cartopy.crs as ccrs\n",
    "import jax\n",
    "import jax.numpy as jnp\n",
    "import matplotlib.pyplot as plt\n",
    "import numpy as np\n",
    "import numpyro\n",
    "import numpyro.distributions as dist\n",
    "import scipy.spatial\n",
    "import trimesh\n",
    "import xarray as xr\n",
    "from numpyro.infer import MCMC, NUTS\n",
    "\n",
    "from DDV import eigenbasis, sph_utils\n",
    "\n",
    "radius = 1"
   ]
  },
  {
   "cell_type": "code",
   "execution_count": 2,
   "outputs": [],
   "source": [
    "data = xr.open_dataset('../data/world_hourly_wind_850.nc')\n",
    "data = data.where(np.abs(data['latitude']) < 90, drop=True)"
   ],
   "metadata": {
    "collapsed": false,
    "ExecuteTime": {
     "end_time": "2025-08-01T14:45:03.119186200Z",
     "start_time": "2025-08-01T14:45:02.885847100Z"
    }
   },
   "id": "bbaf3065261a8c48"
  },
  {
   "cell_type": "code",
   "execution_count": 3,
   "outputs": [],
   "source": [
    "lons = data.variables['longitude'][:].data\n",
    "lats = data.variables['latitude'][:].data\n",
    "\n",
    "lats = lats[np.abs(lats) < 90]\n",
    "\n",
    "lons_grid, lats_grid = np.meshgrid(lons, lats)"
   ],
   "metadata": {
    "collapsed": false,
    "ExecuteTime": {
     "end_time": "2025-08-01T14:45:03.657273100Z",
     "start_time": "2025-08-01T14:45:03.649783200Z"
    }
   },
   "id": "3b16d571e34610e7"
  },
  {
   "cell_type": "markdown",
   "source": [
    "Project 10 degree latitude/longitude grid to a sphere and generate a mesh"
   ],
   "metadata": {
    "collapsed": false
   },
   "id": "df5916a077e4b180"
  },
  {
   "cell_type": "code",
   "execution_count": 4,
   "outputs": [],
   "source": [
    "points = sph_utils.conv_lat_lon(lats_grid.flatten(), lons_grid.flatten(), r=radius)\n",
    "\n",
    "points_aug_n = np.array([[0, 0, radius]])\n",
    "points_aug_s = np.array([[0, 0, -radius]])\n",
    "\n",
    "all_points = np.concatenate((points, points_aug_n, points_aug_s))\n",
    "\n",
    "convex_hull = scipy.spatial.ConvexHull(all_points)\n",
    "mesh = trimesh.Trimesh(convex_hull.points, convex_hull.simplices)\n"
   ],
   "metadata": {
    "collapsed": false,
    "ExecuteTime": {
     "end_time": "2025-08-01T14:45:05.123365300Z",
     "start_time": "2025-08-01T14:45:05.104649600Z"
    }
   },
   "id": "c05b5112495b4220"
  },
  {
   "cell_type": "markdown",
   "source": [
    "Generate a basis for curling and diverging fields with respect to the mesh."
   ],
   "metadata": {
    "collapsed": false
   },
   "id": "835e441dfa9d5518"
  },
  {
   "cell_type": "code",
   "execution_count": 5,
   "outputs": [
    {
     "name": "stderr",
     "output_type": "stream",
     "text": [
      "C:\\Users\\mg874\\anaconda3\\Lib\\site-packages\\pydec\\dec\\simplicial_complex.py:177: RuntimeWarning: divide by zero encountered in divide\n",
      "  data.star_inv = sparse.spdiags([1.0/stardiag],[0], N, N, format='csr')\n",
      "Processing eigenvectors:   0%|          | 0/250 [00:00<?, ?it/s]"
     ]
    },
    {
     "data": {
      "text/plain": "  0%|          | 0/250 [00:00<?, ?it/s]",
      "application/vnd.jupyter.widget-view+json": {
       "version_major": 2,
       "version_minor": 0,
       "model_id": "79e66d1598d642fc895455c97e793807"
      }
     },
     "metadata": {},
     "output_type": "display_data"
    }
   ],
   "source": [
    "sphere_eigen_val, sphere_eigen_vec_d, sphere_eigen_vec_c, vol, sph_c = eigenbasis.generate_vector_basis(\n",
    "    mesh.vertices, mesh.faces, depth=250)"
   ],
   "metadata": {
    "collapsed": false,
    "ExecuteTime": {
     "end_time": "2025-08-01T14:45:11.870439900Z",
     "start_time": "2025-08-01T14:45:07.155892800Z"
    }
   },
   "id": "f9b65677d13c5562"
  },
  {
   "cell_type": "markdown",
   "source": [
    "Project all observed u- and v- vector fields to the vertices of the mesh."
   ],
   "metadata": {
    "collapsed": false
   },
   "id": "70890c62ba45dd83"
  },
  {
   "cell_type": "code",
   "execution_count": 6,
   "outputs": [],
   "source": [
    "def project_to_xyz(points, tangents_u, tangents_v):\n",
    "    basis_northing, basis_easting = sph_utils.spherical_tangent_basis(points, r=radius)\n",
    "\n",
    "    projected_vecs = np.zeros((tangents_u.shape[0], tangents_u.shape[1], 3))\n",
    "\n",
    "    for i in range(tangents_u.shape[0]):\n",
    "        projected_vecs[i] = tangents_u[i][:, None] * basis_easting + tangents_v[i][:, None] * basis_northing\n",
    "\n",
    "    return projected_vecs\n",
    "\n",
    "\n",
    "u = data[\"u\"].values[:, 0, :, :]\n",
    "v = data[\"v\"].values[:, 0, :, :]\n",
    "\n",
    "u_zonal = np.mean(u, axis=(0, 2))\n",
    "v_zonal = np.mean(v, axis=(0, 2))\n",
    "\n",
    "u_corrected = u - u_zonal[np.newaxis, :, np.newaxis]\n",
    "v_corrected = v - v_zonal[np.newaxis, :, np.newaxis]\n",
    "\n",
    "u_np = u_corrected.reshape(u.shape[0], -1)\n",
    "v_np = v_corrected.reshape(v.shape[0], -1)\n",
    "\n",
    "obs_vecs = project_to_xyz(points, u_np, v_np)\n",
    "obs_vecs = obs_vecs.reshape(obs_vecs.shape[0], -1)\n",
    "\n",
    "obs_var = np.mean(np.sum(obs_vecs ** 2, axis=1))\n",
    "\n",
    "# obs_vecs /= obs_vecs_mean_norm\n",
    "obs_vecs /= np.sqrt(obs_var)\n"
   ],
   "metadata": {
    "collapsed": false,
    "ExecuteTime": {
     "end_time": "2025-08-01T14:45:15.279756200Z",
     "start_time": "2025-08-01T14:45:15.218304800Z"
    }
   },
   "id": "5e53f94c61083cde"
  },
  {
   "cell_type": "markdown",
   "source": [],
   "metadata": {
    "collapsed": false
   },
   "id": "c0b97eeedb933722"
  },
  {
   "cell_type": "markdown",
   "source": [
    "Parameters for inference ($\\kappa$ will be inferred as a function of latitude"
   ],
   "metadata": {
    "collapsed": false
   },
   "id": "5186982b44cfb651"
  },
  {
   "cell_type": "code",
   "execution_count": 7,
   "outputs": [],
   "source": [
    "params = {\n",
    "    \"s_c\": 1,\n",
    "    \"v\": 0.5\n",
    "}"
   ],
   "metadata": {
    "collapsed": false,
    "ExecuteTime": {
     "end_time": "2025-08-01T14:45:24.840053400Z",
     "start_time": "2025-08-01T14:45:24.832872300Z"
    }
   },
   "id": "2ea7c38038a02177"
  },
  {
   "cell_type": "markdown",
   "source": [
    "Alternative versions of functions found in [kernel.py](../kernel.py) to omit the diverging basis for improved performance."
   ],
   "metadata": {
    "collapsed": false
   },
   "id": "33106f0f461a2d1d"
  },
  {
   "cell_type": "code",
   "execution_count": 10,
   "outputs": [],
   "source": [
    "def matern_scaling_ns(l, k, v, dim):\n",
    "    if v == jnp.inf:\n",
    "        return jnp.exp(-((k ** 2) / 2.) * l)\n",
    "    else:\n",
    "        return jnp.power(((2 * v) / (k[:, None].T ** 2)) + l[:, None], - v - (dim / 2.))\n",
    "\n",
    "\n",
    "def vector_mesh_kernel_ns(eigenvalues, c_eigenfields, points_1, points_2, dim, vol, kappa_c, params):\n",
    "    eigenvalues = jnp.array(eigenvalues)\n",
    "\n",
    "    c_eigenfields = jnp.array(c_eigenfields)\n",
    "\n",
    "    kappa_c = jnp.array(kappa_c)\n",
    "\n",
    "    points_1 = jnp.array(points_1)\n",
    "    points_2 = jnp.array(points_2)\n",
    "\n",
    "    ms_c = matern_scaling_ns(eigenvalues, kappa_c, params[\"v\"], dim)\n",
    "\n",
    "    ms_c = ms_c / jnp.sqrt(eigenvalues[:, jnp.newaxis])\n",
    "\n",
    "    c_fields_1 = jnp.multiply(c_eigenfields[points_1], jnp.expand_dims(jnp.sqrt(ms_c.T[points_1]), 1))\n",
    "    c_fields_2 = jnp.multiply(c_eigenfields[points_2], jnp.expand_dims(jnp.sqrt(ms_c.T[points_2]), 1))\n",
    "\n",
    "    K_c = jnp.einsum('ijm,klm->ikjl', c_fields_1, c_fields_2)\n",
    "\n",
    "    K_c = K_c.transpose((0, 2, 1, 3)).reshape((len(points_1) * dim, len(points_2) * dim))\n",
    "\n",
    "    # Compute scaling coefficients\n",
    "    c_c = jnp.sum(jnp.mean(ms_c, axis=1)) / vol\n",
    "\n",
    "    # Final kernel with variance scaling\n",
    "    K = ((params[\"s_c\"] ** 2) / c_c) * K_c\n",
    "\n",
    "    return K"
   ],
   "metadata": {
    "collapsed": false,
    "ExecuteTime": {
     "end_time": "2025-08-01T14:47:24.391252600Z",
     "start_time": "2025-08-01T14:47:24.385856100Z"
    }
   },
   "id": "53c374b223cae44"
  },
  {
   "cell_type": "markdown",
   "source": [
    "Create an MCMC model using numpyro to infer radial basis function weights to model $\\kappa$ as a function of latitude."
   ],
   "metadata": {
    "collapsed": false
   },
   "id": "6a0764ad1748f69"
  },
  {
   "cell_type": "code",
   "execution_count": 11,
   "outputs": [],
   "source": [
    "n_points = len(points)\n",
    "\n",
    "\n",
    "def latitude_rbf_basis(latitudes, centers, epsilon=20.0):\n",
    "    \"\"\"Compute RBF basis functions over latitude.\"\"\"\n",
    "    return jnp.exp(-((latitudes[:, None] - centers[None, :]) ** 2) / (2 * epsilon ** 2))\n",
    "\n",
    "\n",
    "M = 20\n",
    "centers = jnp.linspace(-90, 90, M)\n",
    "phi_basis = latitude_rbf_basis(lats_grid.flatten(), centers)\n",
    "\n",
    "\n",
    "def nonstationary_model(Y):\n",
    "    weights = numpyro.sample(\"weights\", dist.Normal(0.0, 1.0).expand([M]))\n",
    "\n",
    "    kappa = jax.nn.softplus(jnp.dot(phi_basis, weights)) + 1\n",
    "\n",
    "    kernel = vector_mesh_kernel_ns(jnp.array(sphere_eigen_val[1:]), sphere_eigen_vec_c[:-2, :, 1:], range(n_points),\n",
    "                                   range(n_points), 3, vol, kappa, params) + 1e-1 * jnp.eye(n_points * 3)\n",
    "\n",
    "    with numpyro.plate(\"realizations\", Y.shape[0]):\n",
    "        numpyro.sample(\n",
    "            \"obs\",\n",
    "            dist.MultivariateNormal(\n",
    "                loc=np.zeros(n_points * 3),\n",
    "                covariance_matrix=kernel,\n",
    "                validate_args=True\n",
    "            ),\n",
    "            obs=Y\n",
    "        )"
   ],
   "metadata": {
    "collapsed": false,
    "ExecuteTime": {
     "end_time": "2025-08-01T14:47:25.876825100Z",
     "start_time": "2025-08-01T14:47:25.856696800Z"
    }
   },
   "id": "ad37ebd1ed81257d"
  },
  {
   "cell_type": "markdown",
   "source": [
    "Sanity check to ensure model is correct by running a single iteration and ensuring shapes are sensible"
   ],
   "metadata": {
    "collapsed": false
   },
   "id": "d49cfdfb09b6c32f"
  },
  {
   "cell_type": "code",
   "execution_count": 13,
   "outputs": [
    {
     "name": "stdout",
     "output_type": "stream",
     "text": [
      "weights: (20,)\n",
      "realizations: (2208,)\n",
      "obs: (2208, 1836)\n"
     ]
    }
   ],
   "source": [
    "from numpyro.handlers import seed, trace\n",
    "\n",
    "tr = trace(seed(nonstationary_model, jax.random.PRNGKey(0))).get_trace(Y=obs_vecs)\n",
    "for name, site in tr.items():\n",
    "    print(f\"{name}: {site['value'].shape}\")\n"
   ],
   "metadata": {
    "collapsed": false,
    "ExecuteTime": {
     "end_time": "2025-08-01T14:48:44.233287900Z",
     "start_time": "2025-08-01T14:48:43.802261300Z"
    }
   },
   "id": "8a34de0b863cbabb"
  },
  {
   "cell_type": "markdown",
   "source": [
    "Run MCMC:"
   ],
   "metadata": {
    "collapsed": false
   },
   "id": "86e5eef857c1697b"
  },
  {
   "cell_type": "code",
   "execution_count": 32,
   "outputs": [
    {
     "name": "stderr",
     "output_type": "stream",
     "text": [
      "sample: 100%|██████████| 600/600 [1:05:06<00:00,  6.51s/it, 7 steps of size 4.62e-01. acc. prob=0.85] "
     ]
    },
    {
     "name": "stdout",
     "output_type": "stream",
     "text": [
      "[weights_c]     \t max r_hat: 1.0099\n"
     ]
    },
    {
     "name": "stderr",
     "output_type": "stream",
     "text": [
      "\n"
     ]
    }
   ],
   "source": [
    "nuts_kernel = NUTS(nonstationary_model,\n",
    "                   max_tree_depth=6,\n",
    "                   adapt_step_size=True,\n",
    "                   adapt_mass_matrix=True)\n",
    "\n",
    "# Run MCMC\n",
    "mcmc = MCMC(nuts_kernel,\n",
    "            num_warmup=100,\n",
    "            num_samples=500)\n",
    "\n",
    "mcmc.run(jax.random.PRNGKey(0), Y=obs_vecs)\n",
    "\n",
    "summary_dict = numpyro.diagnostics.summary(mcmc.get_samples(), group_by_chain=False)\n",
    "\n",
    "for k, v in summary_dict.items():\n",
    "    spaces = \" \" * max(12 - len(k), 0)\n",
    "    print(\"[{}] {} \\t max r_hat: {:.4f}\".format(k, spaces, np.max(v[\"r_hat\"])))"
   ],
   "metadata": {
    "collapsed": false,
    "ExecuteTime": {
     "end_time": "2025-07-07T14:42:41.821614100Z",
     "start_time": "2025-07-07T13:37:30.258819900Z"
    }
   },
   "id": "eee69fdbc634d192"
  },
  {
   "cell_type": "markdown",
   "source": [
    "Plot $\\kappa$ as a function of latitude by combining the posterior means of the Gaussian weights with the basis functions."
   ],
   "metadata": {
    "collapsed": false
   },
   "id": "451ec1dca6da7389"
  },
  {
   "cell_type": "code",
   "execution_count": 39,
   "outputs": [
    {
     "data": {
      "text/plain": "<Figure size 800x400 with 1 Axes>",
      "image/png": "[encoded data removed]"
     },
     "metadata": {},
     "output_type": "display_data"
    }
   ],
   "source": [
    "weights_c_post_mean = summary_dict[\"weights_c\"]['mean']\n",
    "\n",
    "kappa_lat = jax.nn.softplus(jnp.dot(phi_basis, weights_c_post_mean)) + 1\n",
    "\n",
    "plt.figure(figsize=(8, 4))\n",
    "plt.plot(lats_grid.flatten(), kappa_lat, label=f\"$\\kappa$(latitude)\")\n",
    "plt.xlabel(\"Latitude (degrees)\")\n",
    "plt.ylabel(f\"$\\kappa$\")\n",
    "plt.grid(True)\n",
    "plt.legend()\n",
    "plt.tight_layout()\n",
    "plt.savefig('plots/kappa-lat.png', bbox_inches='tight', dpi=400)"
   ],
   "metadata": {
    "collapsed": false,
    "ExecuteTime": {
     "end_time": "2025-07-07T14:54:53.696144200Z",
     "start_time": "2025-07-07T14:54:52.740573700Z"
    }
   },
   "id": "a238f18f917a447"
  }
 ],
 "metadata": {
  "kernelspec": {
   "display_name": "Python 3",
   "language": "python",
   "name": "python3"
  },
  "language_info": {
   "codemirror_mode": {
    "name": "ipython",
    "version": 2
   },
   "file_extension": ".py",
   "mimetype": "text/x-python",
   "name": "python",
   "nbconvert_exporter": "python",
   "pygments_lexer": "ipython2",
   "version": "2.7.6"
  }
 },
 "nbformat": 4,
 "nbformat_minor": 5
}
